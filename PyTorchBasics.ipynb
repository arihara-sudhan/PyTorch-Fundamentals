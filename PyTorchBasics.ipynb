{
 "cells": [
  {
   "cell_type": "markdown",
   "id": "710a5bb4",
   "metadata": {},
   "source": [
    "# PYTORCH FUNDAMENTALS"
   ]
  },
  {
   "cell_type": "code",
   "execution_count": null,
   "id": "c85fbba8",
   "metadata": {},
   "outputs": [],
   "source": []
  },
  {
   "cell_type": "markdown",
   "id": "4c662e5f",
   "metadata": {},
   "source": [
    "# TENSOR"
   ]
  },
  {
   "cell_type": "code",
   "execution_count": 1,
   "id": "80d4693a",
   "metadata": {},
   "outputs": [
    {
     "data": {
      "text/plain": [
       "tensor([[1, 2],\n",
       "        [3, 4]])"
      ]
     },
     "execution_count": 1,
     "metadata": {},
     "output_type": "execute_result"
    }
   ],
   "source": [
    "import torch\n",
    "data = [[1, 2],[3, 4]]\n",
    "x_data = torch.tensor(data)\n",
    "x_data"
   ]
  },
  {
   "cell_type": "markdown",
   "id": "63397c0b",
   "metadata": {},
   "source": [
    "# FROM NUMPY"
   ]
  },
  {
   "cell_type": "code",
   "execution_count": 2,
   "id": "b2b496b5",
   "metadata": {},
   "outputs": [
    {
     "data": {
      "text/plain": [
       "tensor([[1, 2],\n",
       "        [3, 4]])"
      ]
     },
     "execution_count": 2,
     "metadata": {},
     "output_type": "execute_result"
    }
   ],
   "source": [
    "import numpy as np\n",
    "np_array = np.array(data)\n",
    "x_np = torch.from_numpy(np_array)\n",
    "x_np"
   ]
  },
  {
   "cell_type": "markdown",
   "id": "9fe70a90",
   "metadata": {},
   "source": [
    "# THEY SHARE SAME MEMORY LOCATION"
   ]
  },
  {
   "cell_type": "code",
   "execution_count": 14,
   "id": "aa6dde0f",
   "metadata": {},
   "outputs": [
    {
     "name": "stdout",
     "output_type": "stream",
     "text": [
      "[[2 4]\n",
      " [6 8]]\n",
      "tensor([[2, 4],\n",
      "        [6, 8]])\n"
     ]
    }
   ],
   "source": [
    "np.multiply(np_array,2,out=np_array)\n",
    "print(np_array)\n",
    "print(x_np)"
   ]
  },
  {
   "cell_type": "markdown",
   "id": "9a6638a3",
   "metadata": {},
   "source": [
    "# FROM ANOTHER TENSOR"
   ]
  },
  {
   "cell_type": "code",
   "execution_count": 15,
   "id": "087fbdcb",
   "metadata": {},
   "outputs": [
    {
     "name": "stdout",
     "output_type": "stream",
     "text": [
      "Ones Tensor: \n",
      " tensor([[0, 0],\n",
      "        [0, 0]]) \n",
      "\n",
      "Random Tensor: \n",
      " tensor([[0.0709, 0.0118],\n",
      "        [0.2944, 0.1925]]) \n",
      "\n"
     ]
    }
   ],
   "source": [
    "x_ones = torch.zeros_like(x_data) # retains the properties of x_data\n",
    "print(f\"Ones Tensor: \\n {x_ones} \\n\")\n",
    "\n",
    "x_rand = torch.rand_like(x_data, dtype=torch.float) # overrides the datatype of x_data\n",
    "print(f\"Random Tensor: \\n {x_rand} \\n\")"
   ]
  },
  {
   "cell_type": "markdown",
   "id": "47d5e508",
   "metadata": {},
   "source": [
    "# WITH RANDOM & CONSTANT VALUES"
   ]
  },
  {
   "cell_type": "code",
   "execution_count": 16,
   "id": "7d8eb4cf",
   "metadata": {},
   "outputs": [
    {
     "name": "stdout",
     "output_type": "stream",
     "text": [
      "Random Tensor: \n",
      " tensor([[0.7931, 0.3080, 0.7647],\n",
      "        [0.8650, 0.1164, 0.8499]]) \n",
      "\n",
      "Ones Tensor: \n",
      " tensor([[1., 1., 1.],\n",
      "        [1., 1., 1.]]) \n",
      "\n",
      "Zeros Tensor: \n",
      " tensor([[0., 0., 0.],\n",
      "        [0., 0., 0.]])\n"
     ]
    }
   ],
   "source": [
    "shape = (2,3,)\n",
    "rand_tensor = torch.rand(shape)\n",
    "ones_tensor = torch.ones(shape)\n",
    "zeros_tensor = torch.zeros(shape)\n",
    "\n",
    "print(f\"Random Tensor: \\n {rand_tensor} \\n\")\n",
    "print(f\"Ones Tensor: \\n {ones_tensor} \\n\")\n",
    "print(f\"Zeros Tensor: \\n {zeros_tensor}\")"
   ]
  },
  {
   "cell_type": "markdown",
   "id": "1ac2bca1",
   "metadata": {},
   "source": [
    "# SOME ATTRIBUTES"
   ]
  },
  {
   "cell_type": "code",
   "execution_count": 17,
   "id": "a653ca87",
   "metadata": {},
   "outputs": [
    {
     "name": "stdout",
     "output_type": "stream",
     "text": [
      "Shape of tensor: torch.Size([3, 4])\n",
      "Datatype of tensor: torch.float32\n",
      "Device tensor is stored on: cpu\n"
     ]
    }
   ],
   "source": [
    "tensor = torch.rand(3,4)\n",
    "\n",
    "print(f\"Shape of tensor: {tensor.shape}\")\n",
    "print(f\"Datatype of tensor: {tensor.dtype}\")\n",
    "print(f\"Device tensor is stored on: {tensor.device}\")"
   ]
  },
  {
   "cell_type": "markdown",
   "id": "0f3fdcdc",
   "metadata": {},
   "source": [
    "# DEVICE"
   ]
  },
  {
   "cell_type": "code",
   "execution_count": 18,
   "id": "12a9458b",
   "metadata": {},
   "outputs": [],
   "source": [
    "if torch.cuda.is_available():\n",
    "  tensor = tensor.to('cuda')"
   ]
  },
  {
   "cell_type": "markdown",
   "id": "da3156df",
   "metadata": {},
   "source": [
    "# INDEXING AND SLICING"
   ]
  },
  {
   "cell_type": "code",
   "execution_count": 19,
   "id": "0cb97df4",
   "metadata": {},
   "outputs": [
    {
     "name": "stdout",
     "output_type": "stream",
     "text": [
      "First row:  tensor([1., 1., 1., 1.])\n",
      "First column:  tensor([1., 1., 1., 1.])\n",
      "Last column: tensor([1., 1., 1., 1.])\n",
      "tensor([[1., 0., 1., 1.],\n",
      "        [1., 0., 1., 1.],\n",
      "        [1., 0., 1., 1.],\n",
      "        [1., 0., 1., 1.]])\n"
     ]
    }
   ],
   "source": [
    "tensor = torch.ones(4, 4)\n",
    "print('First row: ',tensor[0])\n",
    "print('First column: ', tensor[:, 0])\n",
    "print('Last column:', tensor[..., -1])\n",
    "tensor[:,1] = 0\n",
    "print(tensor)"
   ]
  },
  {
   "cell_type": "markdown",
   "id": "40753578",
   "metadata": {},
   "source": [
    "# JOINING TENSORS"
   ]
  },
  {
   "cell_type": "code",
   "execution_count": 20,
   "id": "4f692099",
   "metadata": {
    "scrolled": true
   },
   "outputs": [
    {
     "name": "stdout",
     "output_type": "stream",
     "text": [
      "tensor([[1., 0., 1., 1., 1., 0., 1., 1., 1., 0., 1., 1.],\n",
      "        [1., 0., 1., 1., 1., 0., 1., 1., 1., 0., 1., 1.],\n",
      "        [1., 0., 1., 1., 1., 0., 1., 1., 1., 0., 1., 1.],\n",
      "        [1., 0., 1., 1., 1., 0., 1., 1., 1., 0., 1., 1.]])\n"
     ]
    }
   ],
   "source": [
    "t1 = torch.cat([tensor, tensor, tensor], dim=1)\n",
    "print(t1)"
   ]
  },
  {
   "cell_type": "markdown",
   "id": "3b1df6ae",
   "metadata": {},
   "source": [
    "# ELEMENT WISE PRODUCT"
   ]
  },
  {
   "cell_type": "code",
   "execution_count": 21,
   "id": "53ca550f",
   "metadata": {},
   "outputs": [
    {
     "data": {
      "text/plain": [
       "tensor([[1., 0., 1., 1.],\n",
       "        [1., 0., 1., 1.],\n",
       "        [1., 0., 1., 1.],\n",
       "        [1., 0., 1., 1.]])"
      ]
     },
     "execution_count": 21,
     "metadata": {},
     "output_type": "execute_result"
    }
   ],
   "source": [
    "z1 = tensor * tensor\n",
    "z2 = tensor.mul(tensor)\n",
    "z3 = torch.rand_like(z2)\n",
    "torch.mul(tensor, tensor, out=z3)\n",
    "z3"
   ]
  },
  {
   "cell_type": "markdown",
   "id": "1bcd7118",
   "metadata": {},
   "source": [
    "# MATRIX MULTIPLICATION"
   ]
  },
  {
   "cell_type": "code",
   "execution_count": 22,
   "id": "b7a836c6",
   "metadata": {},
   "outputs": [
    {
     "data": {
      "text/plain": [
       "tensor([[3., 3., 3., 3.],\n",
       "        [3., 3., 3., 3.],\n",
       "        [3., 3., 3., 3.],\n",
       "        [3., 3., 3., 3.]])"
      ]
     },
     "execution_count": 22,
     "metadata": {},
     "output_type": "execute_result"
    }
   ],
   "source": [
    "y1 = tensor @ tensor.T\n",
    "y2 = tensor.matmul(tensor.T)\n",
    "\n",
    "y3 = torch.rand_like(tensor)\n",
    "torch.matmul(tensor, tensor.T, out=y3)"
   ]
  },
  {
   "cell_type": "markdown",
   "id": "74fcf11e",
   "metadata": {},
   "source": [
    "# SINGLE ELEMENT TENSOR"
   ]
  },
  {
   "cell_type": "code",
   "execution_count": 23,
   "id": "7672f7b7",
   "metadata": {},
   "outputs": [
    {
     "name": "stdout",
     "output_type": "stream",
     "text": [
      "12.0 <class 'float'>\n"
     ]
    }
   ],
   "source": [
    "s = tensor.sum()\n",
    "s_item = s.item()  \n",
    "print(s_item, type(s_item))"
   ]
  },
  {
   "cell_type": "markdown",
   "id": "efa79a02",
   "metadata": {},
   "source": [
    "# INPLACE OPERATIONS"
   ]
  },
  {
   "cell_type": "code",
   "execution_count": 24,
   "id": "0ab344de",
   "metadata": {},
   "outputs": [
    {
     "name": "stdout",
     "output_type": "stream",
     "text": [
      "tensor([[1., 0., 1., 1.],\n",
      "        [1., 0., 1., 1.],\n",
      "        [1., 0., 1., 1.],\n",
      "        [1., 0., 1., 1.]]) \n",
      "\n",
      "tensor([[6., 5., 6., 6.],\n",
      "        [6., 5., 6., 6.],\n",
      "        [6., 5., 6., 6.],\n",
      "        [6., 5., 6., 6.]])\n"
     ]
    }
   ],
   "source": [
    "print(tensor, \"\\n\")\n",
    "tensor.add_(5)\n",
    "print(tensor)"
   ]
  },
  {
   "cell_type": "code",
   "execution_count": 25,
   "id": "42794480",
   "metadata": {},
   "outputs": [
    {
     "name": "stdout",
     "output_type": "stream",
     "text": [
      "t: tensor([[7., 6., 7., 7.],\n",
      "        [7., 6., 7., 7.],\n",
      "        [7., 6., 7., 7.],\n",
      "        [7., 6., 7., 7.]])\n"
     ]
    }
   ],
   "source": [
    "tensor.add_(1)\n",
    "print(f\"t: {tensor}\")"
   ]
  },
  {
   "cell_type": "markdown",
   "id": "6525cb14",
   "metadata": {},
   "source": [
    "# LOADING DATASET"
   ]
  },
  {
   "cell_type": "code",
   "execution_count": 26,
   "id": "37043518",
   "metadata": {
    "scrolled": true
   },
   "outputs": [],
   "source": [
    "import torch\n",
    "from torchvision import datasets\n",
    "from torchvision.transforms import ToTensor\n",
    "import matplotlib.pyplot as plt\n",
    "\n",
    "training_data = datasets.MNIST(\n",
    "    root=\"data\",\n",
    "    train=True,\n",
    "    download=True,\n",
    "    transform=ToTensor()\n",
    ")\n",
    "test_data = datasets.MNIST(\n",
    "    root=\"data\",\n",
    "    train=False,\n",
    "    download=True,\n",
    "    transform=ToTensor()\n",
    ")"
   ]
  },
  {
   "cell_type": "code",
   "execution_count": 27,
   "id": "caa8f0d1",
   "metadata": {
    "scrolled": true
   },
   "outputs": [
    {
     "data": {
      "image/png": "[encoded data removed]",
      "text/plain": [
       "<Figure size 576x576 with 16 Axes>"
      ]
     },
     "metadata": {
      "needs_background": "light"
     },
     "output_type": "display_data"
    }
   ],
   "source": [
    "labels_map = {\n",
    "    0: \"0\",\n",
    "    1: \"1\",\n",
    "    2: \"2\",\n",
    "    3: \"3\",\n",
    "    4: \"4\",\n",
    "    5: \"5\",\n",
    "    6: \"6\",\n",
    "    7: \"7\",\n",
    "    8: \"8\",\n",
    "    9: \"9\",\n",
    "}\n",
    "figure = plt.figure(figsize=(8, 8))\n",
    "cols, rows = 4, 4\n",
    "for i in range(1, cols * rows + 1):\n",
    "    sample_idx = torch.randint(len(training_data), size=(1,)).item()\n",
    "    img, label = training_data[sample_idx]\n",
    "    figure.add_subplot(rows, cols, i)\n",
    "    plt.title(labels_map[label])\n",
    "    plt.axis(\"off\")\n",
    "    plt.imshow(img.squeeze(), cmap=\"gray\")\n",
    "plt.show()"
   ]
  },
  {
   "cell_type": "markdown",
   "id": "6014f29b",
   "metadata": {},
   "source": [
    "# DATA LOADER"
   ]
  },
  {
   "cell_type": "code",
   "execution_count": 28,
   "id": "601efb9a",
   "metadata": {},
   "outputs": [],
   "source": [
    "from torch.utils.data import DataLoader\n",
    "\n",
    "train_dataloader = DataLoader(training_data, batch_size=64, shuffle=True)\n",
    "test_dataloader = DataLoader(test_data, batch_size=64, shuffle=True)"
   ]
  },
  {
   "cell_type": "markdown",
   "id": "3f9b8881",
   "metadata": {},
   "source": [
    "# ITERATING THROUGH THE DATA"
   ]
  },
  {
   "cell_type": "code",
   "execution_count": 29,
   "id": "bbaaa672",
   "metadata": {
    "scrolled": true
   },
   "outputs": [
    {
     "name": "stdout",
     "output_type": "stream",
     "text": [
      "Feature batch shape: torch.Size([64, 1, 28, 28])\n",
      "Labels batch shape: torch.Size([64])\n"
     ]
    },
    {
     "data": {
      "image/png": "[encoded data removed]",
      "text/plain": [
       "<Figure size 432x288 with 1 Axes>"
      ]
     },
     "metadata": {
      "needs_background": "light"
     },
     "output_type": "display_data"
    },
    {
     "name": "stdout",
     "output_type": "stream",
     "text": [
      "Label: 0\n"
     ]
    }
   ],
   "source": [
    "train_features, train_labels = next(iter(train_dataloader))\n",
    "print(f\"Feature batch shape: {train_features.size()}\")\n",
    "print(f\"Labels batch shape: {train_labels.size()}\")\n",
    "img = train_features[0].squeeze()\n",
    "label = train_labels[0]\n",
    "plt.imshow(img, cmap=\"gray\")\n",
    "plt.show()\n",
    "print(f\"Label: {label}\")"
   ]
  },
  {
   "cell_type": "markdown",
   "id": "268562da",
   "metadata": {},
   "source": [
    "# NORMALIZATION"
   ]
  },
  {
   "cell_type": "code",
   "execution_count": 30,
   "id": "f185c299",
   "metadata": {},
   "outputs": [],
   "source": [
    "from torchvision import datasets\n",
    "from torchvision.transforms import ToTensor, Lambda\n",
    "\n",
    "ds = datasets.MNIST(\n",
    "    root=\"data\",\n",
    "    train=True,\n",
    "    download=True,\n",
    "    transform=ToTensor(),\n",
    "    target_transform=Lambda(lambda y: torch.zeros(10, dtype=torch.float)\n",
    "                            .scatter_(0, torch.tensor(y), value=1))\n",
    ")"
   ]
  },
  {
   "cell_type": "markdown",
   "id": "6c2dbe7c",
   "metadata": {},
   "source": [
    "# NEURAL NETWORK"
   ]
  },
  {
   "cell_type": "code",
   "execution_count": 31,
   "id": "839dd53d",
   "metadata": {},
   "outputs": [],
   "source": [
    "import os\n",
    "import torch\n",
    "from torch import nn\n",
    "from torch.utils.data import DataLoader\n",
    "from torchvision import datasets, transforms"
   ]
  },
  {
   "cell_type": "code",
   "execution_count": 32,
   "id": "55c4e8b8",
   "metadata": {},
   "outputs": [],
   "source": [
    "class NeuralNetwork(nn.Module):\n",
    "    def __init__(self):\n",
    "        super(NeuralNetwork, self).__init__()\n",
    "        self.flatten = nn.Flatten()\n",
    "        self.linear_relu_stack = nn.Sequential(\n",
    "            nn.Linear(28*28, 512),\n",
    "            nn.ReLU(),\n",
    "            nn.Linear(512, 512),\n",
    "            nn.ReLU(),\n",
    "            nn.Linear(512, 10),\n",
    "            nn.ReLU()\n",
    "        )\n",
    "\n",
    "    def forward(self, x):\n",
    "        x = self.flatten(x)\n",
    "        logits = self.linear_relu_stack(x)\n",
    "        return logits"
   ]
  },
  {
   "cell_type": "code",
   "execution_count": 33,
   "id": "978a885c",
   "metadata": {},
   "outputs": [],
   "source": [
    "model = NeuralNetwork()"
   ]
  },
  {
   "cell_type": "markdown",
   "id": "3606c347",
   "metadata": {},
   "source": [
    "# SOFTMAX"
   ]
  },
  {
   "cell_type": "code",
   "execution_count": 34,
   "id": "2b303299",
   "metadata": {
    "scrolled": true
   },
   "outputs": [
    {
     "name": "stdout",
     "output_type": "stream",
     "text": [
      "Predicted class: tensor([0])\n"
     ]
    }
   ],
   "source": [
    "X = torch.rand(1, 28, 28)\n",
    "logits = model(X)\n",
    "pred_probab = nn.Softmax(dim=1)(logits)\n",
    "y_pred = pred_probab.argmax(1)\n",
    "print(f\"Predicted class: {y_pred}\")"
   ]
  },
  {
   "cell_type": "markdown",
   "id": "35fab45f",
   "metadata": {},
   "source": [
    "# FLATTEN"
   ]
  },
  {
   "cell_type": "code",
   "execution_count": 35,
   "id": "b587c51b",
   "metadata": {},
   "outputs": [],
   "source": [
    "input_image = torch.rand(1,28,28)"
   ]
  },
  {
   "cell_type": "code",
   "execution_count": 36,
   "id": "c36d6c6e",
   "metadata": {
    "scrolled": true
   },
   "outputs": [
    {
     "name": "stdout",
     "output_type": "stream",
     "text": [
      "torch.Size([1, 784])\n"
     ]
    }
   ],
   "source": [
    "flatten = nn.Flatten()\n",
    "flat_image = flatten(input_image)\n",
    "print(flat_image.size())"
   ]
  },
  {
   "cell_type": "markdown",
   "id": "cc0c2af5",
   "metadata": {},
   "source": [
    "# LINEAR"
   ]
  },
  {
   "cell_type": "code",
   "execution_count": 37,
   "id": "f45e9aa4",
   "metadata": {},
   "outputs": [
    {
     "name": "stdout",
     "output_type": "stream",
     "text": [
      "torch.Size([1, 20])\n"
     ]
    }
   ],
   "source": [
    "layer1 = nn.Linear(in_features=28*28, out_features=20)\n",
    "hidden1 = layer1(flat_image)\n",
    "print(hidden1.size())"
   ]
  },
  {
   "cell_type": "markdown",
   "id": "af015fca",
   "metadata": {},
   "source": [
    "# ReLU"
   ]
  },
  {
   "cell_type": "code",
   "execution_count": 38,
   "id": "3f6237eb",
   "metadata": {},
   "outputs": [
    {
     "name": "stdout",
     "output_type": "stream",
     "text": [
      "Before ReLU: tensor([[-0.3030,  0.2280,  0.1214,  0.5322,  0.0512, -0.1242, -0.5010, -0.6863,\n",
      "          0.5403, -0.1033,  0.8092,  0.1303,  0.4030,  0.0046, -0.0907, -0.7714,\n",
      "          0.2130,  0.0788, -0.1253, -0.2958]], grad_fn=<AddmmBackward0>)\n",
      "\n",
      "\n",
      "After ReLU: tensor([[0.0000, 0.2280, 0.1214, 0.5322, 0.0512, 0.0000, 0.0000, 0.0000, 0.5403,\n",
      "         0.0000, 0.8092, 0.1303, 0.4030, 0.0046, 0.0000, 0.0000, 0.2130, 0.0788,\n",
      "         0.0000, 0.0000]], grad_fn=<ReluBackward0>)\n"
     ]
    }
   ],
   "source": [
    "print(f\"Before ReLU: {hidden1}\\n\\n\")\n",
    "hidden1 = nn.ReLU()(hidden1)\n",
    "print(f\"After ReLU: {hidden1}\")"
   ]
  },
  {
   "cell_type": "markdown",
   "id": "766fb492",
   "metadata": {},
   "source": [
    "# SEQUENTIAL CONTAINER"
   ]
  },
  {
   "cell_type": "code",
   "execution_count": 39,
   "id": "d99d981e",
   "metadata": {},
   "outputs": [
    {
     "data": {
      "text/plain": [
       "tensor([[-0.1297,  0.0502,  0.4691, -0.1994, -0.0269,  0.4003, -0.0917, -0.1743,\n",
       "          0.0587,  0.3797],\n",
       "        [-0.2861, -0.1300,  0.3920, -0.1119, -0.0233,  0.3315, -0.1950, -0.2043,\n",
       "          0.0100,  0.4380],\n",
       "        [-0.2028, -0.1196,  0.4841, -0.2792,  0.0577,  0.3320, -0.0804, -0.2188,\n",
       "         -0.0952,  0.3046]], grad_fn=<AddmmBackward0>)"
      ]
     },
     "execution_count": 39,
     "metadata": {},
     "output_type": "execute_result"
    }
   ],
   "source": [
    "seq_modules = nn.Sequential(\n",
    "    flatten,\n",
    "    layer1,\n",
    "    nn.ReLU(),\n",
    "    nn.Linear(20, 10)\n",
    ")\n",
    "input_image = torch.rand(3,28,28)\n",
    "logits = seq_modules(input_image)\n",
    "logits"
   ]
  },
  {
   "cell_type": "markdown",
   "id": "2604e360",
   "metadata": {},
   "source": [
    "# SOFTMAX"
   ]
  },
  {
   "cell_type": "code",
   "execution_count": 40,
   "id": "999ffd07",
   "metadata": {},
   "outputs": [
    {
     "data": {
      "text/plain": [
       "tensor([[0.0792, 0.0948, 0.1442, 0.0739, 0.0878, 0.1346, 0.0823, 0.0758, 0.0956,\n",
       "         0.1318],\n",
       "        [0.0711, 0.0831, 0.1400, 0.0846, 0.0924, 0.1318, 0.0778, 0.0771, 0.0956,\n",
       "         0.1466],\n",
       "        [0.0776, 0.0843, 0.1541, 0.0718, 0.1006, 0.1324, 0.0877, 0.0763, 0.0864,\n",
       "         0.1288]], grad_fn=<SoftmaxBackward0>)"
      ]
     },
     "execution_count": 40,
     "metadata": {},
     "output_type": "execute_result"
    }
   ],
   "source": [
    "softmax = nn.Softmax(dim=1)\n",
    "pred_probab = softmax(logits)\n",
    "pred_probab"
   ]
  },
  {
   "cell_type": "markdown",
   "id": "b141f149",
   "metadata": {},
   "source": [
    "# MODEL PARAMETERS"
   ]
  },
  {
   "cell_type": "code",
   "execution_count": 41,
   "id": "895b275f",
   "metadata": {},
   "outputs": [
    {
     "name": "stdout",
     "output_type": "stream",
     "text": [
      "Model structure:  NeuralNetwork(\n",
      "  (flatten): Flatten(start_dim=1, end_dim=-1)\n",
      "  (linear_relu_stack): Sequential(\n",
      "    (0): Linear(in_features=784, out_features=512, bias=True)\n",
      "    (1): ReLU()\n",
      "    (2): Linear(in_features=512, out_features=512, bias=True)\n",
      "    (3): ReLU()\n",
      "    (4): Linear(in_features=512, out_features=10, bias=True)\n",
      "    (5): ReLU()\n",
      "  )\n",
      ") \n",
      "\n",
      "\n",
      "Layer: linear_relu_stack.0.weight | Size: torch.Size([512, 784]) | Values : tensor([[-0.0152, -0.0024,  0.0334,  ..., -0.0299, -0.0257,  0.0078],\n",
      "        [ 0.0303,  0.0195, -0.0178,  ...,  0.0179, -0.0182, -0.0203]],\n",
      "       grad_fn=<SliceBackward0>) \n",
      "\n",
      "Layer: linear_relu_stack.0.bias | Size: torch.Size([512]) | Values : tensor([-0.0300, -0.0083], grad_fn=<SliceBackward0>) \n",
      "\n",
      "Layer: linear_relu_stack.2.weight | Size: torch.Size([512, 512]) | Values : tensor([[ 0.0026, -0.0373,  0.0115,  ..., -0.0358, -0.0167, -0.0169],\n",
      "        [-0.0272, -0.0316,  0.0165,  ...,  0.0321,  0.0218,  0.0237]],\n",
      "       grad_fn=<SliceBackward0>) \n",
      "\n",
      "Layer: linear_relu_stack.2.bias | Size: torch.Size([512]) | Values : tensor([-0.0069, -0.0237], grad_fn=<SliceBackward0>) \n",
      "\n",
      "Layer: linear_relu_stack.4.weight | Size: torch.Size([10, 512]) | Values : tensor([[ 0.0434, -0.0295,  0.0407,  ..., -0.0060, -0.0122, -0.0060],\n",
      "        [-0.0076, -0.0181, -0.0266,  ...,  0.0327, -0.0357, -0.0234]],\n",
      "       grad_fn=<SliceBackward0>) \n",
      "\n",
      "Layer: linear_relu_stack.4.bias | Size: torch.Size([10]) | Values : tensor([0.0338, 0.0183], grad_fn=<SliceBackward0>) \n",
      "\n"
     ]
    }
   ],
   "source": [
    "print(\"Model structure: \", model, \"\\n\\n\")\n",
    "for name, param in model.named_parameters():\n",
    "    print(f\"Layer: {name} | Size: {param.size()} | Values : {param[:2]} \\n\")"
   ]
  },
  {
   "cell_type": "markdown",
   "id": "5c11e979",
   "metadata": {},
   "source": [
    "# AUTOMATIC GRADIENT"
   ]
  },
  {
   "cell_type": "code",
   "execution_count": 42,
   "id": "4e37d93a",
   "metadata": {
    "scrolled": true
   },
   "outputs": [
    {
     "data": {
      "text/plain": [
       "tensor(2.1496, grad_fn=<BinaryCrossEntropyWithLogitsBackward0>)"
      ]
     },
     "execution_count": 42,
     "metadata": {},
     "output_type": "execute_result"
    }
   ],
   "source": [
    "import torch\n",
    "\n",
    "x = torch.ones(5)  # input tensor\n",
    "y = torch.zeros(3)  # expected output\n",
    "w = torch.randn(5, 3, requires_grad=True)\n",
    "b = torch.randn(3, requires_grad=True)\n",
    "z = torch.matmul(x, w)+b\n",
    "loss = torch.nn.functional.binary_cross_entropy_with_logits(z, y)\n",
    "loss"
   ]
  },
  {
   "cell_type": "markdown",
   "id": "bcb4e7f9",
   "metadata": {},
   "source": [
    "# GRADIENT COMPUTATION"
   ]
  },
  {
   "cell_type": "code",
   "execution_count": 43,
   "id": "c09dd854",
   "metadata": {
    "scrolled": true
   },
   "outputs": [
    {
     "name": "stdout",
     "output_type": "stream",
     "text": [
      "tensor([[0.3045, 0.3270, 0.0145],\n",
      "        [0.3045, 0.3270, 0.0145],\n",
      "        [0.3045, 0.3270, 0.0145],\n",
      "        [0.3045, 0.3270, 0.0145],\n",
      "        [0.3045, 0.3270, 0.0145]])\n",
      "tensor([0.3045, 0.3270, 0.0145])\n"
     ]
    }
   ],
   "source": [
    "loss.backward()\n",
    "print(w.grad)\n",
    "print(b.grad)"
   ]
  },
  {
   "cell_type": "markdown",
   "id": "29110896",
   "metadata": {},
   "source": [
    "# DISABLING GRADIENTS"
   ]
  },
  {
   "cell_type": "code",
   "execution_count": 44,
   "id": "859d79ac",
   "metadata": {},
   "outputs": [
    {
     "name": "stdout",
     "output_type": "stream",
     "text": [
      "True\n",
      "False\n"
     ]
    }
   ],
   "source": [
    "z = torch.matmul(x, w)+b\n",
    "print(z.requires_grad)\n",
    "\n",
    "with torch.no_grad():\n",
    "    z = torch.matmul(x, w)+b\n",
    "print(z.requires_grad)"
   ]
  },
  {
   "cell_type": "code",
   "execution_count": 45,
   "id": "4fdef507",
   "metadata": {},
   "outputs": [
    {
     "name": "stdout",
     "output_type": "stream",
     "text": [
      "False\n"
     ]
    }
   ],
   "source": [
    "z = torch.matmul(x, w)+b\n",
    "z_det = z.detach()\n",
    "print(z_det.requires_grad)"
   ]
  },
  {
   "cell_type": "markdown",
   "id": "d36e0e7e",
   "metadata": {},
   "source": [
    "# HYPERPARAMETERS"
   ]
  },
  {
   "cell_type": "code",
   "execution_count": 46,
   "id": "59750a1b",
   "metadata": {},
   "outputs": [],
   "source": [
    "learning_rate = 1e-3\n",
    "batch_size = 64\n",
    "epochs = 5"
   ]
  },
  {
   "cell_type": "markdown",
   "id": "1ac61d74",
   "metadata": {},
   "source": [
    "# LOSS FUNCTION"
   ]
  },
  {
   "cell_type": "code",
   "execution_count": 47,
   "id": "2362fd61",
   "metadata": {},
   "outputs": [],
   "source": [
    "loss_fn = nn.CrossEntropyLoss()"
   ]
  },
  {
   "cell_type": "markdown",
   "id": "a96a1a38",
   "metadata": {},
   "source": [
    "# OPTIMIZER"
   ]
  },
  {
   "cell_type": "code",
   "execution_count": 48,
   "id": "f006aab2",
   "metadata": {},
   "outputs": [],
   "source": [
    "optimizer = torch.optim.SGD(model.parameters(), lr=learning_rate)"
   ]
  },
  {
   "cell_type": "markdown",
   "id": "84aecd51",
   "metadata": {},
   "source": [
    "# THE FULL IMPLEMENTATION OF TESTING"
   ]
  },
  {
   "cell_type": "code",
   "execution_count": 49,
   "id": "fcca905c",
   "metadata": {},
   "outputs": [],
   "source": [
    "def train_loop(dataloader, model, loss_fn, optimizer):\n",
    "    size = len(dataloader.dataset)\n",
    "    for batch, (X, y) in enumerate(dataloader):        \n",
    "        pred = model(X)\n",
    "        loss = loss_fn(pred, y)        \n",
    "        # Backpropagation\n",
    "        optimizer.zero_grad()\n",
    "        loss.backward()\n",
    "        optimizer.step()\n",
    "        if batch % 100 == 0:\n",
    "            loss, current = loss.item(), batch * len(X)\n",
    "            print(f\"loss: {loss:>7f}  [{current:>5d}/{size:>5d}]\")\n",
    "            \n",
    "def test_loop(dataloader, model, loss_fn):\n",
    "    size = len(dataloader.dataset)\n",
    "    test_loss, correct = 0, 0\n",
    "    with torch.no_grad():\n",
    "        for X, y in dataloader:\n",
    "            pred = model(X)\n",
    "            test_loss += loss_fn(pred, y).item()\n",
    "            correct += (pred.argmax(1) == y).type(torch.float).sum().item()\n",
    "    test_loss /= size\n",
    "    correct /= size\n",
    "    print(f\"Test Error: \\n Accuracy: {(100*correct):>0.1f}%, Avg loss: {test_loss:>8f} \\n\")"
   ]
  },
  {
   "cell_type": "code",
   "execution_count": 50,
   "id": "e841d668",
   "metadata": {},
   "outputs": [
    {
     "name": "stdout",
     "output_type": "stream",
     "text": [
      "Epoch 1\n",
      "-------------------------------\n",
      "loss: 2.302357  [    0/60000]\n",
      "loss: 2.292316  [ 6400/60000]\n",
      "loss: 2.287180  [12800/60000]\n",
      "loss: 2.288458  [19200/60000]\n",
      "loss: 2.286114  [25600/60000]\n",
      "loss: 2.281518  [32000/60000]\n",
      "loss: 2.276679  [38400/60000]\n",
      "loss: 2.268939  [44800/60000]\n",
      "loss: 2.271695  [51200/60000]\n",
      "loss: 2.258253  [57600/60000]\n",
      "Test Error: \n",
      " Accuracy: 47.9%, Avg loss: 0.035512 \n",
      "\n",
      "Epoch 2\n",
      "-------------------------------\n",
      "loss: 2.256374  [    0/60000]\n",
      "loss: 2.261055  [ 6400/60000]\n",
      "loss: 2.254740  [12800/60000]\n",
      "loss: 2.248677  [19200/60000]\n",
      "loss: 2.241614  [25600/60000]\n",
      "loss: 2.253411  [32000/60000]\n",
      "loss: 2.235476  [38400/60000]\n",
      "loss: 2.235555  [44800/60000]\n",
      "loss: 2.223882  [51200/60000]\n",
      "loss: 2.233332  [57600/60000]\n",
      "Test Error: \n",
      " Accuracy: 55.0%, Avg loss: 0.034718 \n",
      "\n",
      "Epoch 3\n",
      "-------------------------------\n",
      "loss: 2.218984  [    0/60000]\n",
      "loss: 2.208378  [ 6400/60000]\n",
      "loss: 2.216266  [12800/60000]\n",
      "loss: 2.211463  [19200/60000]\n",
      "loss: 2.186844  [25600/60000]\n",
      "loss: 2.181073  [32000/60000]\n",
      "loss: 2.184649  [38400/60000]\n",
      "loss: 2.175167  [44800/60000]\n",
      "loss: 2.139252  [51200/60000]\n",
      "loss: 2.135581  [57600/60000]\n",
      "Test Error: \n",
      " Accuracy: 57.2%, Avg loss: 0.033459 \n",
      "\n",
      "Epoch 4\n",
      "-------------------------------\n",
      "loss: 2.161406  [    0/60000]\n",
      "loss: 2.130564  [ 6400/60000]\n",
      "loss: 2.175624  [12800/60000]\n",
      "loss: 2.099694  [19200/60000]\n",
      "loss: 2.151968  [25600/60000]\n",
      "loss: 2.081775  [32000/60000]\n",
      "loss: 2.093469  [38400/60000]\n",
      "loss: 2.088953  [44800/60000]\n",
      "loss: 2.035890  [51200/60000]\n",
      "loss: 2.032738  [57600/60000]\n",
      "Test Error: \n",
      " Accuracy: 58.5%, Avg loss: 0.031403 \n",
      "\n",
      "Epoch 5\n",
      "-------------------------------\n",
      "loss: 1.975188  [    0/60000]\n",
      "loss: 1.997939  [ 6400/60000]\n",
      "loss: 1.962212  [12800/60000]\n",
      "loss: 1.968600  [19200/60000]\n",
      "loss: 1.857992  [25600/60000]\n",
      "loss: 1.975090  [32000/60000]\n",
      "loss: 1.915335  [38400/60000]\n",
      "loss: 1.871474  [44800/60000]\n",
      "loss: 1.787053  [51200/60000]\n",
      "loss: 1.864279  [57600/60000]\n",
      "Test Error: \n",
      " Accuracy: 59.8%, Avg loss: 0.028347 \n",
      "\n",
      "Epoch 6\n",
      "-------------------------------\n",
      "loss: 1.786341  [    0/60000]\n",
      "loss: 1.856803  [ 6400/60000]\n",
      "loss: 1.765593  [12800/60000]\n",
      "loss: 1.837751  [19200/60000]\n",
      "loss: 1.655026  [25600/60000]\n",
      "loss: 1.785878  [32000/60000]\n",
      "loss: 1.646489  [38400/60000]\n",
      "loss: 1.661165  [44800/60000]\n",
      "loss: 1.547744  [51200/60000]\n",
      "loss: 1.675915  [57600/60000]\n",
      "Test Error: \n",
      " Accuracy: 63.7%, Avg loss: 0.024621 \n",
      "\n",
      "Epoch 7\n",
      "-------------------------------\n",
      "loss: 1.593495  [    0/60000]\n",
      "loss: 1.628900  [ 6400/60000]\n",
      "loss: 1.627263  [12800/60000]\n",
      "loss: 1.465626  [19200/60000]\n",
      "loss: 1.299805  [25600/60000]\n",
      "loss: 1.440209  [32000/60000]\n",
      "loss: 1.399704  [38400/60000]\n",
      "loss: 1.510282  [44800/60000]\n",
      "loss: 1.441322  [51200/60000]\n",
      "loss: 1.370530  [57600/60000]\n",
      "Test Error: \n",
      " Accuracy: 69.2%, Avg loss: 0.021211 \n",
      "\n",
      "Epoch 8\n",
      "-------------------------------\n",
      "loss: 1.516136  [    0/60000]\n",
      "loss: 1.214979  [ 6400/60000]\n",
      "loss: 1.315871  [12800/60000]\n",
      "loss: 1.302690  [19200/60000]\n",
      "loss: 1.173460  [25600/60000]\n",
      "loss: 1.244552  [32000/60000]\n",
      "loss: 1.227586  [38400/60000]\n",
      "loss: 1.313488  [44800/60000]\n",
      "loss: 1.214388  [51200/60000]\n",
      "loss: 0.972667  [57600/60000]\n",
      "Test Error: \n",
      " Accuracy: 72.7%, Avg loss: 0.018620 \n",
      "\n",
      "Epoch 9\n",
      "-------------------------------\n",
      "loss: 1.042203  [    0/60000]\n",
      "loss: 1.185176  [ 6400/60000]\n",
      "loss: 1.262442  [12800/60000]\n",
      "loss: 0.945284  [19200/60000]\n",
      "loss: 1.026120  [25600/60000]\n",
      "loss: 1.124996  [32000/60000]\n",
      "loss: 1.137821  [38400/60000]\n",
      "loss: 0.946848  [44800/60000]\n",
      "loss: 1.146222  [51200/60000]\n",
      "loss: 1.136500  [57600/60000]\n",
      "Test Error: \n",
      " Accuracy: 74.3%, Avg loss: 0.016756 \n",
      "\n",
      "Epoch 10\n",
      "-------------------------------\n",
      "loss: 1.148269  [    0/60000]\n",
      "loss: 1.183381  [ 6400/60000]\n",
      "loss: 1.219135  [12800/60000]\n",
      "loss: 1.039857  [19200/60000]\n",
      "loss: 1.064299  [25600/60000]\n",
      "loss: 1.231538  [32000/60000]\n",
      "loss: 1.203437  [38400/60000]\n",
      "loss: 1.126244  [44800/60000]\n",
      "loss: 1.265303  [51200/60000]\n",
      "loss: 1.007589  [57600/60000]\n",
      "Test Error: \n",
      " Accuracy: 75.8%, Avg loss: 0.015304 \n",
      "\n",
      "Done!\n"
     ]
    }
   ],
   "source": [
    "loss_fn = nn.CrossEntropyLoss()\n",
    "optimizer = torch.optim.SGD(model.parameters(), lr=learning_rate)\n",
    "\n",
    "epochs = 10\n",
    "for t in range(epochs):\n",
    "    print(f\"Epoch {t+1}\\n-------------------------------\")\n",
    "    train_loop(train_dataloader, model, loss_fn, optimizer)\n",
    "    test_loop(test_dataloader, model, loss_fn)\n",
    "print(\"Done!\")"
   ]
  },
  {
   "cell_type": "markdown",
   "id": "2e123f5d",
   "metadata": {},
   "source": [
    "# SAVING THE MODEL"
   ]
  },
  {
   "cell_type": "code",
   "execution_count": 51,
   "id": "4c04fb01",
   "metadata": {},
   "outputs": [
    {
     "name": "stdout",
     "output_type": "stream",
     "text": [
      "Saved PyTorch Model State to model.pth\n"
     ]
    }
   ],
   "source": [
    "torch.save(model.state_dict(), \"mnist-model.pth\")\n",
    "print(\"Saved PyTorch Model State to model.pth\")"
   ]
  },
  {
   "cell_type": "markdown",
   "id": "86b978e7",
   "metadata": {},
   "source": [
    "# LOADING THE MODEL"
   ]
  },
  {
   "cell_type": "code",
   "execution_count": 52,
   "id": "98fa6bd1",
   "metadata": {},
   "outputs": [],
   "source": [
    "import torch\n",
    "import onnxruntime\n",
    "from torch import nn\n",
    "import torch.onnx as onnx\n",
    "import torchvision.models as models\n",
    "from torchvision import datasets\n",
    "from torchvision.transforms import ToTensor"
   ]
  },
  {
   "cell_type": "code",
   "execution_count": 53,
   "id": "9aef4a8f",
   "metadata": {},
   "outputs": [],
   "source": [
    "class NeuralNetwork(nn.Module):\n",
    "    def __init__(self):\n",
    "        super(NeuralNetwork, self).__init__()\n",
    "        self.flatten = nn.Flatten()\n",
    "        self.linear_relu_stack = nn.Sequential(\n",
    "            nn.Linear(28*28, 512),\n",
    "            nn.ReLU(),\n",
    "            nn.Linear(512, 512),\n",
    "            nn.ReLU(),\n",
    "            nn.Linear(512, 10),\n",
    "            nn.ReLU()\n",
    "        )\n",
    "\n",
    "    def forward(self, x):\n",
    "        x = self.flatten(x)\n",
    "        logits = self.linear_relu_stack(x)\n",
    "        return logits"
   ]
  },
  {
   "cell_type": "code",
   "execution_count": 54,
   "id": "650e66d9",
   "metadata": {},
   "outputs": [
    {
     "data": {
      "text/plain": [
       "NeuralNetwork(\n",
       "  (flatten): Flatten(start_dim=1, end_dim=-1)\n",
       "  (linear_relu_stack): Sequential(\n",
       "    (0): Linear(in_features=784, out_features=512, bias=True)\n",
       "    (1): ReLU()\n",
       "    (2): Linear(in_features=512, out_features=512, bias=True)\n",
       "    (3): ReLU()\n",
       "    (4): Linear(in_features=512, out_features=10, bias=True)\n",
       "    (5): ReLU()\n",
       "  )\n",
       ")"
      ]
     },
     "execution_count": 54,
     "metadata": {},
     "output_type": "execute_result"
    }
   ],
   "source": [
    "model = NeuralNetwork()\n",
    "model.load_state_dict(torch.load('mnist-model.pth'))\n",
    "model.eval()"
   ]
  },
  {
   "cell_type": "markdown",
   "id": "4de91311",
   "metadata": {},
   "source": [
    "# ONNX MODEL"
   ]
  },
  {
   "cell_type": "code",
   "execution_count": 55,
   "id": "731760dc",
   "metadata": {
    "scrolled": true
   },
   "outputs": [
    {
     "name": "stdout",
     "output_type": "stream",
     "text": [
      "================ Diagnostic Run torch.onnx.export version 2.0.0 ================\n",
      "verbose: False, log level: Level.ERROR\n",
      "======================= 0 NONE 0 NOTE 0 WARNING 0 ERROR ========================\n",
      "\n"
     ]
    }
   ],
   "source": [
    "input_image = torch.zeros((1,28,28))\n",
    "onnx_model = 'mnist-onnx-model.onnx'\n",
    "onnx.export(model, input_image, onnx_model)"
   ]
  },
  {
   "cell_type": "code",
   "execution_count": 56,
   "id": "22fcdc68",
   "metadata": {},
   "outputs": [],
   "source": [
    "test_data = datasets.MNIST(\n",
    "    root=\"data\",\n",
    "    train=False,\n",
    "    download=True,\n",
    "    transform=ToTensor()\n",
    ")\n",
    "\n",
    "classes = [\n",
    "    \"0\",\n",
    "    \"1\",\n",
    "    \"2\",\n",
    "    \"3\",\n",
    "    \"4\",\n",
    "    \"5\",\n",
    "    \"6\",\n",
    "    \"7\",\n",
    "    \"8\",\n",
    "    \"9\",\n",
    "]\n",
    "x, y = test_data[0][0], test_data[0][1]"
   ]
  },
  {
   "cell_type": "code",
   "execution_count": 75,
   "id": "b3b42357",
   "metadata": {
    "scrolled": true
   },
   "outputs": [
    {
     "name": "stdout",
     "output_type": "stream",
     "text": [
      "Predicted: \"7\", Actual: \"7\"\n"
     ]
    }
   ],
   "source": [
    "session = onnxruntime.InferenceSession(onnx_model, None)\n",
    "input_name = session.get_inputs()[0].name\n",
    "output_name = session.get_outputs()[0].name\n",
    "result = session.run([output_name], {input_name: x.numpy()})\n",
    "predicted, actual = classes[result[0][0].argmax(0)], classes[y]\n",
    "print(f'Predicted: \"{predicted}\", Actual: \"{actual}\"')"
   ]
  },
  {
   "cell_type": "markdown",
   "id": "6985f59d",
   "metadata": {},
   "source": [
    "# COMPUTER VISION PLUS PYTORCH"
   ]
  },
  {
   "cell_type": "code",
   "execution_count": 4,
   "id": "008c6fcd",
   "metadata": {},
   "outputs": [],
   "source": [
    "#Import the packages needed.\n",
    "import torch\n",
    "import torchvision\n",
    "import matplotlib.pyplot as plt\n",
    "import numpy as np"
   ]
  },
  {
   "cell_type": "code",
   "execution_count": 5,
   "id": "b0b108ce",
   "metadata": {},
   "outputs": [],
   "source": [
    "from torchvision.transforms import ToTensor\n",
    "\n",
    "data_train = torchvision.datasets.MNIST('./data',\n",
    "        download=True,train=True,transform=ToTensor())\n",
    "data_test = torchvision.datasets.MNIST('./data',\n",
    "        download=True,train=False,transform=ToTensor())"
   ]
  },
  {
   "cell_type": "code",
   "execution_count": 6,
   "id": "9d49619d",
   "metadata": {},
   "outputs": [
    {
     "data": {
      "image/png": "[encoded data removed]",
      "text/plain": [
       "<Figure size 432x288 with 7 Axes>"
      ]
     },
     "metadata": {
      "needs_background": "light"
     },
     "output_type": "display_data"
    }
   ],
   "source": [
    "fig,ax = plt.subplots(1,7)\n",
    "for i in range(7):\n",
    "    ax[i].imshow(data_train[i][0].view(28,28))\n",
    "    ax[i].set_title(data_train[i][1])\n",
    "    ax[i].axis('off')"
   ]
  },
  {
   "cell_type": "markdown",
   "id": "ad8df6bd",
   "metadata": {},
   "source": [
    "# DATASET ARCHITECTURE"
   ]
  },
  {
   "cell_type": "code",
   "execution_count": 8,
   "id": "8271e0ef",
   "metadata": {},
   "outputs": [
    {
     "name": "stdout",
     "output_type": "stream",
     "text": [
      "Training samples: 60000\n",
      "Test samples: 10000\n",
      "Tensor size: torch.Size([1, 28, 28])\n",
      "First 10 digits are: [5, 0, 4, 1, 9, 2, 1, 3, 1, 4]\n"
     ]
    }
   ],
   "source": [
    "print('Training samples:',len(data_train))\n",
    "print('Test samples:',len(data_test))\n",
    "\n",
    "print('Tensor size:',data_train[0][0].size())\n",
    "print('First 10 digits are:', [data_train[i][1] for i in range(10)])"
   ]
  },
  {
   "cell_type": "markdown",
   "id": "cbd92f70",
   "metadata": {},
   "source": [
    "# SIMPLE DENSE NETWORK"
   ]
  },
  {
   "cell_type": "code",
   "execution_count": 11,
   "id": "265f22db",
   "metadata": {
    "scrolled": true
   },
   "outputs": [
    {
     "name": "stdout",
     "output_type": "stream",
     "text": [
      "--2023-04-20 11:37:53--  https://raw.githubusercontent.com/MicrosoftDocs/pytorchfundamentals/main/computer-vision-pytorch/pytorchcv.py\n",
      "Resolving raw.githubusercontent.com (raw.githubusercontent.com)... 185.199.108.133, 185.199.111.133, 185.199.110.133, ...\n",
      "Connecting to raw.githubusercontent.com (raw.githubusercontent.com)|185.199.108.133|:443... connected.\n",
      "HTTP request sent, awaiting response... 200 OK\n",
      "Length: 6540 (6.4K) [text/plain]\n",
      "Saving to: ‘pytorchcv.py’\n",
      "\n",
      "pytorchcv.py        100%[===================>]   6.39K  --.-KB/s    in 0s      \n",
      "\n",
      "2023-04-20 11:37:55 (30.8 MB/s) - ‘pytorchcv.py’ saved [6540/6540]\n",
      "\n"
     ]
    }
   ],
   "source": [
    "!wget https://raw.githubusercontent.com/MicrosoftDocs/pytorchfundamentals/main/computer-vision-pytorch/pytorchcv.py"
   ]
  },
  {
   "cell_type": "code",
   "execution_count": 13,
   "id": "bb36b260",
   "metadata": {},
   "outputs": [
    {
     "name": "stdout",
     "output_type": "stream",
     "text": [
      "Collecting torchinfo\n",
      "  Downloading torchinfo-1.7.2-py3-none-any.whl (22 kB)\n",
      "Installing collected packages: torchinfo\n",
      "Successfully installed torchinfo-1.7.2\n"
     ]
    }
   ],
   "source": [
    "!pip install torchinfo"
   ]
  },
  {
   "cell_type": "code",
   "execution_count": 15,
   "id": "cffdde7b",
   "metadata": {},
   "outputs": [],
   "source": [
    "import torch\n",
    "import torch.nn as nn\n",
    "import torchvision\n",
    "import matplotlib.pyplot as plt\n",
    "from torchinfo import summary\n",
    "from pytorchcv import load_mnist, plot_results\n",
    "load_mnist()"
   ]
  },
  {
   "cell_type": "code",
   "execution_count": 16,
   "id": "1d40f622",
   "metadata": {},
   "outputs": [],
   "source": [
    "net = nn.Sequential(\n",
    "        nn.Flatten(), \n",
    "        nn.Linear(784,10), # 784 inputs, 10 outputs\n",
    "        nn.LogSoftmax())"
   ]
  },
  {
   "cell_type": "markdown",
   "id": "cb3a480a",
   "metadata": {},
   "source": [
    "# TRAIN"
   ]
  },
  {
   "cell_type": "code",
   "execution_count": 20,
   "id": "df095abc",
   "metadata": {},
   "outputs": [],
   "source": [
    "train_loader = torch.utils.data.DataLoader(data_train,batch_size=64)\n",
    "test_loader = torch.utils.data.DataLoader(data_test,batch_size=64)"
   ]
  },
  {
   "cell_type": "code",
   "execution_count": 22,
   "id": "99f22a25",
   "metadata": {},
   "outputs": [
    {
     "name": "stderr",
     "output_type": "stream",
     "text": [
      "/home/ari-pt7127/anaconda3/lib/python3.9/site-packages/torch/nn/modules/container.py:217: UserWarning: Implicit dimension choice for log_softmax has been deprecated. Change the call to include dim=X as an argument.\n",
      "  input = module(input)\n"
     ]
    },
    {
     "data": {
      "text/plain": [
       "(0.005930608113606771, 0.8926833333333334)"
      ]
     },
     "execution_count": 22,
     "metadata": {},
     "output_type": "execute_result"
    }
   ],
   "source": [
    "def train_epoch(net,dataloader,lr=0.01,optimizer=None,loss_fn = nn.NLLLoss()):\n",
    "    optimizer = optimizer or torch.optim.Adam(net.parameters(),lr=lr)\n",
    "    net.train()\n",
    "    total_loss,acc,count = 0,0,0\n",
    "    for features,labels in dataloader:\n",
    "        optimizer.zero_grad()\n",
    "        out = net(features)\n",
    "        loss = loss_fn(out,labels) #cross_entropy(out,labels)\n",
    "        loss.backward()\n",
    "        optimizer.step()\n",
    "        total_loss+=loss\n",
    "        _,predicted = torch.max(out,1)\n",
    "        acc+=(predicted==labels).sum()\n",
    "        count+=len(labels)\n",
    "    return total_loss.item()/count, acc.item()/count\n",
    "train_epoch(net,train_loader)"
   ]
  },
  {
   "cell_type": "markdown",
   "id": "014a37a5",
   "metadata": {},
   "source": [
    "# VALIDATE"
   ]
  },
  {
   "cell_type": "code",
   "execution_count": 25,
   "id": "9c8f74dc",
   "metadata": {},
   "outputs": [
    {
     "data": {
      "text/plain": [
       "(0.005866207122802734, 0.8941)"
      ]
     },
     "execution_count": 25,
     "metadata": {},
     "output_type": "execute_result"
    }
   ],
   "source": [
    "def validate(net, dataloader,loss_fn=nn.NLLLoss()):\n",
    "    net.eval()\n",
    "    count,acc,loss = 0,0,0\n",
    "    with torch.no_grad():\n",
    "        for features,labels in dataloader:\n",
    "            out = net(features)\n",
    "            loss += loss_fn(out,labels) \n",
    "            pred = torch.max(out,1)[1]\n",
    "            acc += (pred==labels).sum()\n",
    "            count += len(labels)\n",
    "    return loss.item()/count, acc.item()/count\n",
    "validate(net,test_loader)"
   ]
  },
  {
   "cell_type": "code",
   "execution_count": 29,
   "id": "32521cde",
   "metadata": {},
   "outputs": [
    {
     "name": "stdout",
     "output_type": "stream",
     "text": [
      "Epoch  0, Train acc=0.893, Val acc=0.893,Train loss=0.006, Val loss=0.006\n",
      "Epoch  1, Train acc=0.910, Val acc=0.899,Train loss=0.005, Val loss=0.006\n",
      "Epoch  2, Train acc=0.913, Val acc=0.898,Train loss=0.005, Val loss=0.006\n",
      "Epoch  3, Train acc=0.915, Val acc=0.897,Train loss=0.005, Val loss=0.006\n",
      "Epoch  4, Train acc=0.916, Val acc=0.897,Train loss=0.005, Val loss=0.006\n"
     ]
    }
   ],
   "source": [
    "def train(net,train_loader,test_loader,optimizer=None,lr=0.01,epochs=10,loss_fn=nn.NLLLoss()):\n",
    "    optimizer = optimizer or torch.optim.Adam(net.parameters(),lr=lr)\n",
    "    res = { 'train_loss' : [], 'train_acc': [], 'val_loss': [], 'val_acc': []}\n",
    "    for ep in range(epochs):\n",
    "        tl,ta = train_epoch(net,train_loader,optimizer=optimizer,lr=lr,loss_fn=loss_fn)\n",
    "        vl,va = validate(net,test_loader,loss_fn=loss_fn)\n",
    "        print(f\"Epoch {ep:2}, Train acc={ta:.3f}, Val acc={va:.3f},Train loss={tl:.3f}, Val loss={vl:.3f}\")\n",
    "        res['train_loss'].append(tl)\n",
    "        res['train_acc'].append(ta)\n",
    "        res['val_loss'].append(vl)\n",
    "        res['val_acc'].append(va)\n",
    "    return res\n",
    "net = nn.Sequential(\n",
    "        nn.Flatten(), \n",
    "        nn.Linear(784,10), # 784 inputs, 10 outputs\n",
    "        nn.LogSoftmax())\n",
    "hist = train(net,train_loader,test_loader,epochs=5)"
   ]
  },
  {
   "cell_type": "markdown",
   "id": "c0a2bcee",
   "metadata": {},
   "source": [
    "# PLOT"
   ]
  },
  {
   "cell_type": "code",
   "execution_count": 32,
   "id": "a2083aa8",
   "metadata": {
    "scrolled": true
   },
   "outputs": [
    {
     "data": {
      "text/plain": [
       "<matplotlib.legend.Legend at 0x7fdd70a7fdc0>"
      ]
     },
     "execution_count": 32,
     "metadata": {},
     "output_type": "execute_result"
    },
    {
     "data": {
      "image/png": "[encoded data removed]",
      "text/plain": [
       "<Figure size 1080x360 with 2 Axes>"
      ]
     },
     "metadata": {
      "needs_background": "light"
     },
     "output_type": "display_data"
    }
   ],
   "source": [
    "plt.figure(figsize=(15,5))\n",
    "plt.subplot(121)\n",
    "plt.plot(hist['train_acc'], label='Training acc')\n",
    "plt.plot(hist['val_acc'], label='Validation acc')\n",
    "plt.legend()\n",
    "plt.subplot(122)\n",
    "plt.plot(hist['train_loss'], label='Training loss')\n",
    "plt.plot(hist['val_loss'], label='Validation loss')\n",
    "plt.legend()"
   ]
  },
  {
   "cell_type": "markdown",
   "id": "2be7dc3f",
   "metadata": {},
   "source": [
    "# MULTILAYERED PERCEPTRON"
   ]
  },
  {
   "cell_type": "code",
   "execution_count": 34,
   "id": "d7db4226",
   "metadata": {
    "scrolled": true
   },
   "outputs": [
    {
     "name": "stderr",
     "output_type": "stream",
     "text": [
      "/home/ari-pt7127/anaconda3/lib/python3.9/site-packages/torchinfo/torchinfo.py:477: UserWarning: TypedStorage is deprecated. It will be removed in the future and UntypedStorage will be the only storage class. This should only matter to you if you are using storages directly.  To access UntypedStorage directly, use tensor.untyped_storage() instead of tensor.storage()\n",
      "  action_fn=lambda data: sys.getsizeof(data.storage()),\n",
      "/home/ari-pt7127/anaconda3/lib/python3.9/site-packages/torch/storage.py:665: UserWarning: TypedStorage is deprecated. It will be removed in the future and UntypedStorage will be the only storage class. This should only matter to you if you are using storages directly.  To access UntypedStorage directly, use tensor.untyped_storage() instead of tensor.storage()\n",
      "  return super().__sizeof__() + self.nbytes()\n"
     ]
    },
    {
     "data": {
      "text/plain": [
       "==========================================================================================\n",
       "Layer (type:depth-idx)                   Output Shape              Param #\n",
       "==========================================================================================\n",
       "Sequential                               [1, 10]                   --\n",
       "├─Flatten: 1-1                           [1, 784]                  --\n",
       "├─Linear: 1-2                            [1, 100]                  78,500\n",
       "├─ReLU: 1-3                              [1, 100]                  --\n",
       "├─Linear: 1-4                            [1, 10]                   1,010\n",
       "├─LogSoftmax: 1-5                        [1, 10]                   --\n",
       "==========================================================================================\n",
       "Total params: 79,510\n",
       "Trainable params: 79,510\n",
       "Non-trainable params: 0\n",
       "Total mult-adds (M): 0.08\n",
       "==========================================================================================\n",
       "Input size (MB): 0.00\n",
       "Forward/backward pass size (MB): 0.00\n",
       "Params size (MB): 0.32\n",
       "Estimated Total Size (MB): 0.32\n",
       "=========================================================================================="
      ]
     },
     "execution_count": 34,
     "metadata": {},
     "output_type": "execute_result"
    }
   ],
   "source": [
    "net = nn.Sequential(\n",
    "        nn.Flatten(), \n",
    "        nn.Linear(784,100),     # 784 inputs, 100 outputs\n",
    "        nn.ReLU(),              # Activation Function\n",
    "        nn.Linear(100,10),      # 100 inputs, 10 outputs\n",
    "        nn.LogSoftmax(dim=0))\n",
    "\n",
    "summary(net,input_size=(1,28,28))"
   ]
  },
  {
   "cell_type": "markdown",
   "id": "84eda472",
   "metadata": {},
   "source": [
    "# THE CLASS SYNTAX"
   ]
  },
  {
   "cell_type": "code",
   "execution_count": 36,
   "id": "cc742c9d",
   "metadata": {
    "scrolled": true
   },
   "outputs": [
    {
     "data": {
      "text/plain": [
       "==========================================================================================\n",
       "Layer (type:depth-idx)                   Output Shape              Param #\n",
       "==========================================================================================\n",
       "MyNet                                    [1, 10]                   --\n",
       "├─Flatten: 1-1                           [1, 784]                  --\n",
       "├─Linear: 1-2                            [1, 100]                  78,500\n",
       "├─Linear: 1-3                            [1, 10]                   1,010\n",
       "==========================================================================================\n",
       "Total params: 79,510\n",
       "Trainable params: 79,510\n",
       "Non-trainable params: 0\n",
       "Total mult-adds (M): 0.08\n",
       "==========================================================================================\n",
       "Input size (MB): 0.00\n",
       "Forward/backward pass size (MB): 0.00\n",
       "Params size (MB): 0.32\n",
       "Estimated Total Size (MB): 0.32\n",
       "=========================================================================================="
      ]
     },
     "execution_count": 36,
     "metadata": {},
     "output_type": "execute_result"
    }
   ],
   "source": [
    "from torch.nn.functional import relu, log_softmax\n",
    "class MyNet(nn.Module):\n",
    "    def __init__(self):\n",
    "        super(MyNet, self).__init__()\n",
    "        self.flatten = nn.Flatten()\n",
    "        self.hidden = nn.Linear(784,100)\n",
    "        self.out = nn.Linear(100,10)\n",
    "    def forward(self, x):\n",
    "        x = self.flatten(x)\n",
    "        x = self.hidden(x)\n",
    "        x = relu(x)\n",
    "        x = self.out(x)\n",
    "        x = log_softmax(x,dim=0)\n",
    "        return x\n",
    "net = MyNet()\n",
    "summary(net,input_size=(1,28,28),device='cpu')"
   ]
  },
  {
   "cell_type": "markdown",
   "id": "a830adb1",
   "metadata": {},
   "source": [
    "# THE CNN"
   ]
  },
  {
   "cell_type": "code",
   "execution_count": 38,
   "id": "f429e717",
   "metadata": {},
   "outputs": [],
   "source": [
    "import torch\n",
    "import torch.nn as nn\n",
    "import torchvision\n",
    "import matplotlib.pyplot as plt\n",
    "from torchinfo import summary\n",
    "import numpy as np\n",
    "\n",
    "from pytorchcv import load_mnist, train, plot_results, plot_convolution, display_dataset\n",
    "load_mnist(batch_size=128)"
   ]
  },
  {
   "cell_type": "markdown",
   "id": "1d3c7e21",
   "metadata": {},
   "source": [
    "# DIFFERENT KERNELS"
   ]
  },
  {
   "cell_type": "code",
   "execution_count": 39,
   "id": "90111bd6",
   "metadata": {
    "scrolled": true
   },
   "outputs": [
    {
     "data": {
      "image/png": "[encoded data removed]",
      "text/plain": [
       "<Figure size 576x216 with 12 Axes>"
      ]
     },
     "metadata": {
      "needs_background": "light"
     },
     "output_type": "display_data"
    },
    {
     "data": {
      "image/png": "[encoded data removed]",
      "text/plain": [
       "<Figure size 576x216 with 12 Axes>"
      ]
     },
     "metadata": {
      "needs_background": "light"
     },
     "output_type": "display_data"
    }
   ],
   "source": [
    "plot_convolution(torch.tensor([[-1.,0.,1.],[-1.,0.,1.],[-1.,0.,1.]]),'Vertical edge filter')\n",
    "plot_convolution(torch.tensor([[-1.,-1.,-1.],[0.,0.,0.],[1.,1.,1.]]),'Horizontal edge filter')\n"
   ]
  },
  {
   "cell_type": "markdown",
   "id": "cc9cab9a",
   "metadata": {},
   "source": [
    "# CONVOLUTIONAL LAYER"
   ]
  },
  {
   "cell_type": "code",
   "execution_count": null,
   "id": "abab6701",
   "metadata": {},
   "outputs": [],
   "source": [
    "class OneConv(nn.Module):\n",
    "    def __init__(self):\n",
    "        super(OneConv, self).__init__()\n",
    "        self.conv = nn.Conv2d(in_channels=1,out_channels=9,kernel_size=(5,5))\n",
    "        self.flatten = nn.Flatten()\n",
    "        self.fc = nn.Linear(5184,10)\n",
    "\n",
    "    def forward(self, x):\n",
    "        x = nn.functional.relu(self.conv(x))\n",
    "        x = self.flatten(x)\n",
    "        x = nn.functional.log_softmax(self.fc(x),dim=1)\n",
    "        return x\n",
    "\n",
    "net = OneConv()\n",
    "\n",
    "summary(net,input_size=(1,1,28,28))"
   ]
  },
  {
   "cell_type": "markdown",
   "id": "eada1dd2",
   "metadata": {},
   "source": [
    "# TRAIN THE CNN"
   ]
  },
  {
   "cell_type": "code",
   "execution_count": 42,
   "id": "9a5d36a1",
   "metadata": {
    "scrolled": true
   },
   "outputs": [
    {
     "name": "stdout",
     "output_type": "stream",
     "text": [
      "Epoch  0, Train acc=0.926, Val acc=0.945, Train loss=0.035, Val loss=0.034\n",
      "Epoch  1, Train acc=0.950, Val acc=0.954, Train loss=0.033, Val loss=0.033\n",
      "Epoch  2, Train acc=0.957, Val acc=0.954, Train loss=0.033, Val loss=0.033\n",
      "Epoch  3, Train acc=0.959, Val acc=0.956, Train loss=0.033, Val loss=0.033\n",
      "Epoch  4, Train acc=0.961, Val acc=0.956, Train loss=0.033, Val loss=0.033\n"
     ]
    },
    {
     "data": {
      "image/png": "[encoded data removed]",
      "text/plain": [
       "<Figure size 1080x360 with 2 Axes>"
      ]
     },
     "metadata": {
      "needs_background": "light"
     },
     "output_type": "display_data"
    }
   ],
   "source": [
    "hist = train(net,train_loader,test_loader,epochs=5)\n",
    "plot_results(hist)"
   ]
  },
  {
   "cell_type": "markdown",
   "id": "d73792ae",
   "metadata": {},
   "source": [
    "# MULTILAYERED CNN"
   ]
  },
  {
   "cell_type": "code",
   "execution_count": 45,
   "id": "7c0f2f7d",
   "metadata": {},
   "outputs": [],
   "source": [
    "import torch\n",
    "import torch.nn as nn\n",
    "import torchvision\n",
    "import matplotlib.pyplot as plt\n",
    "from torchinfo import summary\n",
    "import numpy as np\n",
    "\n",
    "from pytorchcv import load_mnist, train, plot_results, plot_convolution, display_dataset\n",
    "load_mnist(batch_size=128)"
   ]
  },
  {
   "cell_type": "code",
   "execution_count": 46,
   "id": "1d35c057",
   "metadata": {},
   "outputs": [
    {
     "data": {
      "text/plain": [
       "==========================================================================================\n",
       "Layer (type:depth-idx)                   Output Shape              Param #\n",
       "==========================================================================================\n",
       "MultiLayerCNN                            [1, 10]                   --\n",
       "├─Conv2d: 1-1                            [1, 10, 24, 24]           260\n",
       "├─MaxPool2d: 1-2                         [1, 10, 12, 12]           --\n",
       "├─Conv2d: 1-3                            [1, 20, 8, 8]             5,020\n",
       "├─MaxPool2d: 1-4                         [1, 20, 4, 4]             --\n",
       "├─Linear: 1-5                            [1, 10]                   3,210\n",
       "==========================================================================================\n",
       "Total params: 8,490\n",
       "Trainable params: 8,490\n",
       "Non-trainable params: 0\n",
       "Total mult-adds (M): 0.47\n",
       "==========================================================================================\n",
       "Input size (MB): 0.00\n",
       "Forward/backward pass size (MB): 0.06\n",
       "Params size (MB): 0.03\n",
       "Estimated Total Size (MB): 0.09\n",
       "=========================================================================================="
      ]
     },
     "execution_count": 46,
     "metadata": {},
     "output_type": "execute_result"
    }
   ],
   "source": [
    "class MultiLayerCNN(nn.Module):\n",
    "    def __init__(self):\n",
    "        super(MultiLayerCNN, self).__init__()\n",
    "        self.conv1 = nn.Conv2d(1, 10, 5)\n",
    "        self.pool = nn.MaxPool2d(2, 2)\n",
    "        self.conv2 = nn.Conv2d(10, 20, 5)\n",
    "        self.fc = nn.Linear(320,10)\n",
    "\n",
    "    def forward(self, x):\n",
    "        x = self.pool(nn.functional.relu(self.conv1(x)))\n",
    "        x = self.pool(nn.functional.relu(self.conv2(x)))\n",
    "        x = x.view(-1, 320)\n",
    "        x = nn.functional.log_softmax(self.fc(x),dim=1)\n",
    "        return x\n",
    "\n",
    "net = MultiLayerCNN()\n",
    "summary(net,input_size=(1,1,28,28))"
   ]
  },
  {
   "cell_type": "code",
   "execution_count": 47,
   "id": "04dbe159",
   "metadata": {
    "scrolled": true
   },
   "outputs": [
    {
     "name": "stdout",
     "output_type": "stream",
     "text": [
      "Epoch  0, Train acc=0.954, Val acc=0.964, Train loss=0.002, Val loss=0.002\n",
      "Epoch  1, Train acc=0.978, Val acc=0.979, Train loss=0.001, Val loss=0.001\n",
      "Epoch  2, Train acc=0.981, Val acc=0.983, Train loss=0.001, Val loss=0.001\n",
      "Epoch  3, Train acc=0.983, Val acc=0.983, Train loss=0.001, Val loss=0.001\n",
      "Epoch  4, Train acc=0.984, Val acc=0.977, Train loss=0.001, Val loss=0.001\n"
     ]
    }
   ],
   "source": [
    "hist = train(net,train_loader,test_loader,epochs=5)"
   ]
  },
  {
   "cell_type": "markdown",
   "id": "c74258dd",
   "metadata": {},
   "source": [
    "# TRANSFER LEARNING"
   ]
  },
  {
   "cell_type": "code",
   "execution_count": 49,
   "id": "a896f316",
   "metadata": {},
   "outputs": [],
   "source": [
    "import torch\n",
    "import torch.nn as nn\n",
    "import torchvision\n",
    "import torchvision.transforms as transforms\n",
    "import matplotlib.pyplot as plt\n",
    "from torchinfo import summary\n",
    "import numpy as np\n",
    "import os\n",
    "from pytorchcv import train, plot_results, display_dataset, train_long, check_image_dir"
   ]
  },
  {
   "cell_type": "code",
   "execution_count": 51,
   "id": "60984111",
   "metadata": {},
   "outputs": [],
   "source": [
    "if not os.path.exists('data/kagglecatsanddogs_5340.zip'):\n",
    "    !wget -P data -q https://download.microsoft.com/download/3/E/1/3E1C3F21-ECDB-4869-8368-6DEBA77B919F/kagglecatsanddogs_5340.zip"
   ]
  },
  {
   "cell_type": "code",
   "execution_count": 52,
   "id": "ddf78879",
   "metadata": {},
   "outputs": [],
   "source": [
    "import zipfile\n",
    "if not os.path.exists('data/PetImages'):\n",
    "    with zipfile.ZipFile('data/kagglecatsanddogs_5340.zip', 'r') as zip_ref:\n",
    "        zip_ref.extractall('data')"
   ]
  },
  {
   "cell_type": "code",
   "execution_count": 53,
   "id": "67c951f0",
   "metadata": {
    "scrolled": true
   },
   "outputs": [
    {
     "name": "stdout",
     "output_type": "stream",
     "text": [
      "Corrupt image: data/PetImages/Cat/666.jpg\n",
      "Corrupt image: data/PetImages/Dog/11702.jpg\n"
     ]
    },
    {
     "name": "stderr",
     "output_type": "stream",
     "text": [
      "/home/ari-pt7127/anaconda3/lib/python3.9/site-packages/PIL/TiffImagePlugin.py:819: UserWarning: Truncated File Read\n",
      "  warnings.warn(str(msg))\n"
     ]
    }
   ],
   "source": [
    "check_image_dir('data/PetImages/Cat/*.jpg')\n",
    "check_image_dir('data/PetImages/Dog/*.jpg')"
   ]
  },
  {
   "cell_type": "code",
   "execution_count": 54,
   "id": "b6ea2820",
   "metadata": {},
   "outputs": [
    {
     "data": {
      "image/png": "[encoded data removed]",
      "text/plain": [
       "<Figure size 1080x216 with 10 Axes>"
      ]
     },
     "metadata": {
      "needs_background": "light"
     },
     "output_type": "display_data"
    }
   ],
   "source": [
    "std_normalize = transforms.Normalize(mean=[0.485, 0.456, 0.406],\n",
    "                          std=[0.229, 0.224, 0.225])\n",
    "trans = transforms.Compose([\n",
    "        transforms.Resize(256),\n",
    "        transforms.CenterCrop(224),\n",
    "        transforms.ToTensor(), \n",
    "        std_normalize])\n",
    "dataset = torchvision.datasets.ImageFolder('data/PetImages',transform=trans)\n",
    "trainset, testset = torch.utils.data.random_split(dataset,[20000,len(dataset)-20000])\n",
    "\n",
    "display_dataset(dataset)"
   ]
  },
  {
   "cell_type": "code",
   "execution_count": 55,
   "id": "e5e57831",
   "metadata": {},
   "outputs": [
    {
     "name": "stdout",
     "output_type": "stream",
     "text": [
      "--2023-04-20 12:46:45--  https://github.com/MicrosoftDocs/pytorchfundamentals/raw/main/computer-vision-pytorch/vgg16-397923af.pth\n",
      "Resolving github.com (github.com)... 20.207.73.82\n",
      "Connecting to github.com (github.com)|20.207.73.82|:443... connected.\n",
      "HTTP request sent, awaiting response... 302 Found\n",
      "Location: https://media.githubusercontent.com/media/MicrosoftDocs/pytorchfundamentals/main/computer-vision-pytorch/vgg16-397923af.pth [following]\n",
      "--2023-04-20 12:46:45--  https://media.githubusercontent.com/media/MicrosoftDocs/pytorchfundamentals/main/computer-vision-pytorch/vgg16-397923af.pth\n",
      "Resolving media.githubusercontent.com (media.githubusercontent.com)... 185.199.111.133, 185.199.108.133, 185.199.109.133, ...\n",
      "Connecting to media.githubusercontent.com (media.githubusercontent.com)|185.199.111.133|:443... connected.\n",
      "HTTP request sent, awaiting response... 200 OK\n",
      "Length: 553433881 (528M) [application/octet-stream]\n",
      "Saving to: ‘models/vgg16-397923af.pth’\n",
      "\n",
      "vgg16-397923af.pth  100%[===================>] 527.79M  7.18MB/s    in 1m 43s  \n",
      "\n",
      "2023-04-20 12:48:57 (5.11 MB/s) - ‘models/vgg16-397923af.pth’ saved [553433881/553433881]\n",
      "\n"
     ]
    }
   ],
   "source": [
    "!mkdir -p models\n",
    "!wget -P models https://github.com/MicrosoftDocs/pytorchfundamentals/raw/main/computer-vision-pytorch/vgg16-397923af.pth"
   ]
  },
  {
   "cell_type": "code",
   "execution_count": 56,
   "id": "50071e8f",
   "metadata": {},
   "outputs": [
    {
     "name": "stdout",
     "output_type": "stream",
     "text": [
      "tensor(282)\n"
     ]
    }
   ],
   "source": [
    "file_path = 'models/vgg16-397923af.pth'\n",
    "\n",
    "vgg = torchvision.models.vgg16()\n",
    "vgg.load_state_dict(torch.load(file_path))\n",
    "vgg.eval()\n",
    "\n",
    "sample_image = dataset[0][0].unsqueeze(0)\n",
    "res = vgg(sample_image)\n",
    "print(res[0].argmax())"
   ]
  },
  {
   "cell_type": "code",
   "execution_count": 57,
   "id": "acfa5941",
   "metadata": {
    "scrolled": true
   },
   "outputs": [
    {
     "data": {
      "text/plain": [
       "==========================================================================================\n",
       "Layer (type:depth-idx)                   Output Shape              Param #\n",
       "==========================================================================================\n",
       "VGG                                      [1, 1000]                 --\n",
       "├─Sequential: 1-1                        [1, 512, 7, 7]            --\n",
       "│    └─Conv2d: 2-1                       [1, 64, 224, 224]         1,792\n",
       "│    └─ReLU: 2-2                         [1, 64, 224, 224]         --\n",
       "│    └─Conv2d: 2-3                       [1, 64, 224, 224]         36,928\n",
       "│    └─ReLU: 2-4                         [1, 64, 224, 224]         --\n",
       "│    └─MaxPool2d: 2-5                    [1, 64, 112, 112]         --\n",
       "│    └─Conv2d: 2-6                       [1, 128, 112, 112]        73,856\n",
       "│    └─ReLU: 2-7                         [1, 128, 112, 112]        --\n",
       "│    └─Conv2d: 2-8                       [1, 128, 112, 112]        147,584\n",
       "│    └─ReLU: 2-9                         [1, 128, 112, 112]        --\n",
       "│    └─MaxPool2d: 2-10                   [1, 128, 56, 56]          --\n",
       "│    └─Conv2d: 2-11                      [1, 256, 56, 56]          295,168\n",
       "│    └─ReLU: 2-12                        [1, 256, 56, 56]          --\n",
       "│    └─Conv2d: 2-13                      [1, 256, 56, 56]          590,080\n",
       "│    └─ReLU: 2-14                        [1, 256, 56, 56]          --\n",
       "│    └─Conv2d: 2-15                      [1, 256, 56, 56]          590,080\n",
       "│    └─ReLU: 2-16                        [1, 256, 56, 56]          --\n",
       "│    └─MaxPool2d: 2-17                   [1, 256, 28, 28]          --\n",
       "│    └─Conv2d: 2-18                      [1, 512, 28, 28]          1,180,160\n",
       "│    └─ReLU: 2-19                        [1, 512, 28, 28]          --\n",
       "│    └─Conv2d: 2-20                      [1, 512, 28, 28]          2,359,808\n",
       "│    └─ReLU: 2-21                        [1, 512, 28, 28]          --\n",
       "│    └─Conv2d: 2-22                      [1, 512, 28, 28]          2,359,808\n",
       "│    └─ReLU: 2-23                        [1, 512, 28, 28]          --\n",
       "│    └─MaxPool2d: 2-24                   [1, 512, 14, 14]          --\n",
       "│    └─Conv2d: 2-25                      [1, 512, 14, 14]          2,359,808\n",
       "│    └─ReLU: 2-26                        [1, 512, 14, 14]          --\n",
       "│    └─Conv2d: 2-27                      [1, 512, 14, 14]          2,359,808\n",
       "│    └─ReLU: 2-28                        [1, 512, 14, 14]          --\n",
       "│    └─Conv2d: 2-29                      [1, 512, 14, 14]          2,359,808\n",
       "│    └─ReLU: 2-30                        [1, 512, 14, 14]          --\n",
       "│    └─MaxPool2d: 2-31                   [1, 512, 7, 7]            --\n",
       "├─AdaptiveAvgPool2d: 1-2                 [1, 512, 7, 7]            --\n",
       "├─Sequential: 1-3                        [1, 1000]                 --\n",
       "│    └─Linear: 2-32                      [1, 4096]                 102,764,544\n",
       "│    └─ReLU: 2-33                        [1, 4096]                 --\n",
       "│    └─Dropout: 2-34                     [1, 4096]                 --\n",
       "│    └─Linear: 2-35                      [1, 4096]                 16,781,312\n",
       "│    └─ReLU: 2-36                        [1, 4096]                 --\n",
       "│    └─Dropout: 2-37                     [1, 4096]                 --\n",
       "│    └─Linear: 2-38                      [1, 1000]                 4,097,000\n",
       "==========================================================================================\n",
       "Total params: 138,357,544\n",
       "Trainable params: 138,357,544\n",
       "Non-trainable params: 0\n",
       "Total mult-adds (G): 15.48\n",
       "==========================================================================================\n",
       "Input size (MB): 0.60\n",
       "Forward/backward pass size (MB): 108.45\n",
       "Params size (MB): 553.43\n",
       "Estimated Total Size (MB): 662.49\n",
       "=========================================================================================="
      ]
     },
     "execution_count": 57,
     "metadata": {},
     "output_type": "execute_result"
    }
   ],
   "source": [
    "summary(vgg,input_size=(1,3,224,224))"
   ]
  },
  {
   "cell_type": "code",
   "execution_count": 59,
   "id": "1f4d0198",
   "metadata": {},
   "outputs": [
    {
     "name": "stdout",
     "output_type": "stream",
     "text": [
      "...................................................................................................."
     ]
    }
   ],
   "source": [
    "bs = 8\n",
    "dl = torch.utils.data.DataLoader(dataset,batch_size=bs,shuffle=True)\n",
    "num = bs*100\n",
    "feature_tensor = torch.zeros(num,512*7*7)\n",
    "label_tensor = torch.zeros(num)\n",
    "i = 0\n",
    "for x,l in dl:\n",
    "    with torch.no_grad():\n",
    "        f = vgg.features(x)\n",
    "        feature_tensor[i:i+bs] = f.view(bs,-1)\n",
    "        label_tensor[i:i+bs] = l\n",
    "        i+=bs\n",
    "        print('.',end='')\n",
    "        if i>=num:\n",
    "            break"
   ]
  },
  {
   "cell_type": "code",
   "execution_count": 61,
   "id": "eb723b01",
   "metadata": {},
   "outputs": [
    {
     "name": "stdout",
     "output_type": "stream",
     "text": [
      "Epoch  0, Train acc=0.916, Val acc=0.950, Train loss=0.068, Val loss=0.082\n",
      "Epoch  1, Train acc=0.981, Val acc=0.970, Train loss=0.021, Val loss=0.041\n",
      "Epoch  2, Train acc=0.983, Val acc=0.970, Train loss=0.011, Val loss=0.038\n",
      "Epoch  3, Train acc=0.990, Val acc=0.960, Train loss=0.011, Val loss=0.093\n",
      "Epoch  4, Train acc=1.000, Val acc=0.970, Train loss=0.000, Val loss=0.043\n",
      "Epoch  5, Train acc=0.999, Val acc=0.960, Train loss=0.000, Val loss=0.065\n",
      "Epoch  6, Train acc=1.000, Val acc=0.960, Train loss=0.000, Val loss=0.095\n",
      "Epoch  7, Train acc=1.000, Val acc=0.960, Train loss=0.000, Val loss=0.098\n",
      "Epoch  8, Train acc=1.000, Val acc=0.960, Train loss=0.000, Val loss=0.099\n",
      "Epoch  9, Train acc=1.000, Val acc=0.960, Train loss=0.000, Val loss=0.099\n"
     ]
    }
   ],
   "source": [
    "vgg_dataset = torch.utils.data.TensorDataset(feature_tensor,label_tensor.to(torch.long))\n",
    "train_ds, test_ds = torch.utils.data.random_split(vgg_dataset,[700,100])\n",
    "train_loader = torch.utils.data.DataLoader(train_ds,batch_size=32)\n",
    "test_loader = torch.utils.data.DataLoader(test_ds,batch_size=32)\n",
    "net = torch.nn.Sequential(torch.nn.Linear(512*7*7,2),torch.nn.LogSoftmax())\n",
    "history = train(net,train_loader,test_loader)"
   ]
  },
  {
   "cell_type": "code",
   "execution_count": 62,
   "id": "28179ce8",
   "metadata": {},
   "outputs": [],
   "source": [
    "torch.save(vgg,'data/cats_dogs.pth')"
   ]
  }
 ],
 "metadata": {
  "kernelspec": {
   "display_name": "Python 3 (ipykernel)",
   "language": "python",
   "name": "python3"
  },
  "language_info": {
   "codemirror_mode": {
    "name": "ipython",
    "version": 3
   },
   "file_extension": ".py",
   "mimetype": "text/x-python",
   "name": "python",
   "nbconvert_exporter": "python",
   "pygments_lexer": "ipython3",
   "version": "3.9.7"
  }
 },
 "nbformat": 4,
 "nbformat_minor": 5
}
