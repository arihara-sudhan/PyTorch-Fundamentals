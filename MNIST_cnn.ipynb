{
 "cells": [
  {
   "cell_type": "markdown",
   "id": "9dfc3a09",
   "metadata": {},
   "source": [
    "# IMPORT LIBRARIES"
   ]
  },
  {
   "cell_type": "code",
   "execution_count": 4,
   "id": "9817f3ea",
   "metadata": {},
   "outputs": [],
   "source": [
    "import torch\n",
    "from torchvision import datasets\n",
    "import torchvision\n",
    "from torchvision.transforms import ToTensor\n",
    "from torch.utils.data import DataLoader\n",
    "import numpy"
   ]
  },
  {
   "cell_type": "markdown",
   "id": "361d7aeb",
   "metadata": {},
   "source": [
    "# LOAD TRAIN & TEST DATA"
   ]
  },
  {
   "cell_type": "code",
   "execution_count": 5,
   "id": "85fe06ba",
   "metadata": {},
   "outputs": [],
   "source": [
    "train_data = datasets.MNIST(\n",
    "    root = 'data',\n",
    "    train = True,                         \n",
    "    transform = ToTensor(), \n",
    "    download = True,            \n",
    ")\n",
    "test_data = datasets.MNIST(\n",
    "    root = 'data', \n",
    "    train = False, \n",
    "    transform = ToTensor()\n",
    ")"
   ]
  },
  {
   "cell_type": "markdown",
   "id": "2355dbe6",
   "metadata": {},
   "source": [
    "# DATA LOADERS"
   ]
  },
  {
   "cell_type": "code",
   "execution_count": 6,
   "id": "adabc92c",
   "metadata": {},
   "outputs": [],
   "source": [
    "loaders = {\n",
    "    'train' : DataLoader(train_data, \n",
    "                        batch_size=100, \n",
    "                        shuffle=True, \n",
    "                        num_workers=1),\n",
    "    'test'  : DataLoader(test_data, \n",
    "                        batch_size=100, \n",
    "                        shuffle=True, \n",
    "                        num_workers=1), }"
   ]
  },
  {
   "cell_type": "markdown",
   "id": "1f7b90fe",
   "metadata": {},
   "source": [
    "# THE CNN"
   ]
  },
  {
   "cell_type": "code",
   "execution_count": 7,
   "id": "73779fed",
   "metadata": {},
   "outputs": [],
   "source": [
    "import torch.nn as nn\n",
    "\n",
    "class CNN(nn.Module):\n",
    "    def __init__(self):\n",
    "        super(CNN, self).__init__()\n",
    "        \n",
    "        self.conv1 = nn.Sequential(         \n",
    "            nn.Conv2d(\n",
    "                in_channels=1,              \n",
    "                out_channels=16,            \n",
    "                kernel_size=5,              \n",
    "                stride=1,                   \n",
    "                padding=2,                  \n",
    "            ),nn.ReLU(),nn.MaxPool2d(kernel_size=2))\n",
    "        \n",
    "        self.conv2 = nn.Sequential(         \n",
    "            nn.Conv2d(16, 32, 5, 1, 2),     \n",
    "            nn.ReLU(),nn.MaxPool2d(2))\n",
    "        self.out = nn.Linear(32 * 7 * 7, 10)\n",
    "        \n",
    "    def forward(self, x):\n",
    "        x = self.conv1(x)\n",
    "        x = self.conv2(x)\n",
    "        x = x.view(x.size(0), -1)       \n",
    "        output = self.out(x)\n",
    "        return output, x\n",
    "    "
   ]
  },
  {
   "cell_type": "markdown",
   "id": "d35ffdf5",
   "metadata": {},
   "source": [
    "# LOSS FUNCTION & ACTIVATION FUNCTION"
   ]
  },
  {
   "cell_type": "code",
   "execution_count": 8,
   "id": "35d03ff3",
   "metadata": {},
   "outputs": [],
   "source": [
    "from torch import optim\n",
    "cnn = CNN()\n",
    "optimizer = optim.Adam(cnn.parameters(), lr = 0.01) \n",
    "loss_func = nn.CrossEntropyLoss()\n"
   ]
  },
  {
   "cell_type": "markdown",
   "id": "b12c6bde",
   "metadata": {},
   "source": [
    "# TRAIN THE NETWORK"
   ]
  },
  {
   "cell_type": "code",
   "execution_count": 11,
   "id": "15424ed4",
   "metadata": {},
   "outputs": [
    {
     "name": "stdout",
     "output_type": "stream",
     "text": [
      "Epoch 1 ::: Loss 0.0452\n",
      "Epoch 2 ::: Loss 0.0985\n",
      "Epoch 3 ::: Loss 0.0380\n",
      "Epoch 4 ::: Loss 0.1161\n",
      "Epoch 5 ::: Loss 0.0858\n",
      "Epoch 6 ::: Loss 0.0167\n",
      "Epoch 7 ::: Loss 0.0325\n",
      "Epoch 8 ::: Loss 0.1083\n",
      "Epoch 9 ::: Loss 0.0181\n",
      "Epoch 10 ::: Loss 0.0486\n"
     ]
    }
   ],
   "source": [
    "from torch.autograd import Variable\n",
    "num_epochs = 10\n",
    "def train(num_epochs, cnn, loaders):\n",
    "    cnn.train()\n",
    "    total_step = len(loaders['train'])\n",
    "    for epoch in range(num_epochs):\n",
    "        for i, (images, labels) in enumerate(loaders['train']):\n",
    "            b_x = Variable(images)   # batch x\n",
    "            b_y = Variable(labels)   # batch y\n",
    "            output = cnn(b_x)[0]\n",
    "            loss = loss_func(output, b_y)\n",
    "            optimizer.zero_grad()           \n",
    "            loss.backward()\n",
    "            optimizer.step()            \n",
    "        print ('Epoch {} ::: Loss {:.4f}'.format(epoch + 1,loss.item()))\n",
    "                \n",
    "train(num_epochs, cnn, loaders)"
   ]
  },
  {
   "cell_type": "markdown",
   "id": "1dce22e9",
   "metadata": {},
   "source": [
    "# LET'S TEST"
   ]
  },
  {
   "cell_type": "code",
   "execution_count": 10,
   "id": "93605ad1",
   "metadata": {},
   "outputs": [
    {
     "name": "stdout",
     "output_type": "stream",
     "text": [
      "0.09299999999999999\n"
     ]
    }
   ],
   "source": [
    "with torch.no_grad():\n",
    "    correct = 0\n",
    "    accuracy = 0\n",
    "    for data in loaders['test']:\n",
    "        images,labels = data\n",
    "        test_output, last_layer = cnn(images)\n",
    "        pred_y = torch.max(test_output, 1)[1].data.squeeze()\n",
    "        accuracy += (pred_y == labels).sum().item() / float(labels.size(0))\n",
    "    print(accuracy/len(loaders['test']))"
   ]
  },
  {
   "cell_type": "markdown",
   "id": "af613927",
   "metadata": {},
   "source": [
    "# PREDICTIONS"
   ]
  },
  {
   "cell_type": "code",
   "execution_count": 11,
   "id": "4a7d3036",
   "metadata": {},
   "outputs": [
    {
     "name": "stdout",
     "output_type": "stream",
     "text": [
      "Prediction number: [9 7 7 7 7 7 7 9 7 7]\n",
      "Actual number: [1 7 6 1 3 9 6 1 7 5]\n"
     ]
    }
   ],
   "source": [
    "sample = next(iter(loaders['test']))\n",
    "imgs, lbls = sample\n",
    "actual_number = lbls[:10].numpy()\n",
    "test_output, last_layer = cnn(imgs[:10])\n",
    "pred_y = torch.max(test_output, 1)[1].data.numpy().squeeze()\n",
    "print(f'Prediction number: {pred_y}')\n",
    "print(f'Actual number: {actual_number}')"
   ]
  },
  {
   "cell_type": "code",
   "execution_count": 13,
   "id": "8f7c3f2b",
   "metadata": {},
   "outputs": [
    {
     "name": "stdout",
     "output_type": "stream",
     "text": [
      "CNN(\n",
      "  (conv1): Sequential(\n",
      "    (0): Conv2d(1, 16, kernel_size=(5, 5), stride=(1, 1), padding=(2, 2))\n",
      "    (1): ReLU()\n",
      "    (2): MaxPool2d(kernel_size=2, stride=2, padding=0, dilation=1, ceil_mode=False)\n",
      "  )\n",
      "  (conv2): Sequential(\n",
      "    (0): Conv2d(16, 32, kernel_size=(5, 5), stride=(1, 1), padding=(2, 2))\n",
      "    (1): ReLU()\n",
      "    (2): MaxPool2d(kernel_size=2, stride=2, padding=0, dilation=1, ceil_mode=False)\n",
      "  )\n",
      "  (out): Linear(in_features=1568, out_features=10, bias=True)\n",
      ")\n"
     ]
    }
   ],
   "source": [
    "#torch.save(cnn,\"models/MNIST_cnn.pt\")\n",
    "model = torch.load('models/MNIST_cnn.pt')\n",
    "print(model)"
   ]
  },
  {
   "cell_type": "markdown",
   "id": "c584e524",
   "metadata": {},
   "source": [
    "# ONNX"
   ]
  },
  {
   "cell_type": "code",
   "execution_count": 14,
   "id": "5d70138d",
   "metadata": {},
   "outputs": [
    {
     "name": "stdout",
     "output_type": "stream",
     "text": [
      "================ Diagnostic Run torch.onnx.export version 2.0.0 ================\n",
      "verbose: False, log level: Level.ERROR\n",
      "======================= 0 NONE 0 NOTE 0 WARNING 0 ERROR ========================\n",
      "\n"
     ]
    }
   ],
   "source": [
    "torch.onnx.export(model,\n",
    "                 torch.randn(1, 1, 28, 28),\n",
    "                 \"models/mnist_cnn.onnx\",\n",
    "                 verbose=False,\n",
    "                 input_names=[ \"actual_input\" ],\n",
    "                 output_names=[ \"outputs\" ],\n",
    "                 export_params=True,\n",
    "                 )"
   ]
  },
  {
   "cell_type": "markdown",
   "id": "cf29fdb1",
   "metadata": {},
   "source": [
    "# INFERENCING"
   ]
  },
  {
   "cell_type": "code",
   "execution_count": 15,
   "id": "ea5fbb50",
   "metadata": {
    "scrolled": false
   },
   "outputs": [
    {
     "data": {
      "image/png": "[encoded data removed]",
      "text/plain": [
       "<Figure size 1440x1440 with 1 Axes>"
      ]
     },
     "metadata": {
      "needs_background": "light"
     },
     "output_type": "display_data"
    },
    {
     "name": "stdout",
     "output_type": "stream",
     "text": [
      "PREDICTION : 4\n"
     ]
    },
    {
     "data": {
      "image/png": "[encoded data removed]",
      "text/plain": [
       "<Figure size 1440x1440 with 1 Axes>"
      ]
     },
     "metadata": {
      "needs_background": "light"
     },
     "output_type": "display_data"
    },
    {
     "name": "stdout",
     "output_type": "stream",
     "text": [
      "PREDICTION : 2\n",
      "100.0\n"
     ]
    }
   ],
   "source": [
    "import onnxruntime\n",
    "import numpy as np\n",
    "import matplotlib.pyplot as plt\n",
    "\n",
    "def infer(img,x):\n",
    "    figure = plt.figure(figsize=(20, 20))\n",
    "    cols, rows = 5, 5\n",
    "    figure.add_subplot(rows, cols, x+1)\n",
    "    plt.axis(\"off\")\n",
    "    plt.imshow(img.squeeze(), cmap=\"gray\")\n",
    "    plt.show()\n",
    "    result = session.run([output_name], {input_name: img.numpy()})\n",
    "    prediction=int(np.argmax(np.array(result).squeeze()))\n",
    "    print(\"PREDICTION : \"+str(prediction))\n",
    "    return prediction\n",
    "    \n",
    "model_dir =\"./models\"\n",
    "model=model_dir+\"/mnist_cnn.onnx\"\n",
    "session = onnxruntime.InferenceSession(model)\n",
    "input_name = session.get_inputs()[0].name\n",
    "output_name = session.get_outputs()[0].name\n",
    "sample = next(iter(loaders['test']))\n",
    "imgs, lbls = sample\n",
    "accuracy = 0\n",
    "n = 2\n",
    "for x in range(n):\n",
    "    if lbls[x]==infer(imgs[x:x+1],x):\n",
    "        accuracy += 1\n",
    "print(accuracy/n*100)"
   ]
  },
  {
   "cell_type": "markdown",
   "id": "32fdeced",
   "metadata": {},
   "source": [
    "# CORE USAGE"
   ]
  },
  {
   "cell_type": "code",
   "execution_count": 16,
   "id": "55b0122e",
   "metadata": {},
   "outputs": [],
   "source": [
    "def usingonnxmodel():\n",
    "    model_dir =\"./models\"\n",
    "    model=model_dir+\"/mnist_cnn.onnx\"\n",
    "    session = onnxruntime.InferenceSession(model)\n",
    "    input_name = session.get_inputs()[0].name\n",
    "    output_name = session.get_outputs()[0].name\n",
    "    sample = next(iter(loaders['test']))\n",
    "    imgs, lbls = sample\n",
    "    n=10\n",
    "    for x in range(n):\n",
    "        result = session.run([output_name], {input_name: imgs[x:x+1].numpy()})\n",
    "        prediction=int(np.argmax(np.array(result).squeeze()))\n",
    "\n",
    "def usingptmodel():\n",
    "    sample = next(iter(loaders['test']))\n",
    "    imgs, lbls = sample\n",
    "    actual_number = lbls[:10].numpy()\n",
    "    test_output, last_layer = cnn(imgs[:10])\n",
    "    pred_y = torch.max(test_output, 1)[1].data.numpy().squeeze()\n"
   ]
  },
  {
   "cell_type": "code",
   "execution_count": 17,
   "id": "930f94cc",
   "metadata": {},
   "outputs": [
    {
     "name": "stdout",
     "output_type": "stream",
     "text": [
      "CORE_1: 15.9%\n",
      "CORE_2: 15.5%\n",
      "CORE_3: 14.8%\n",
      "CORE_4: 15.1%\n",
      "CORE_5: 15.0%\n",
      "CORE_6: 17.5%\n"
     ]
    }
   ],
   "source": [
    "import psutil\n",
    "per_cpu = psutil.cpu_percent(percpu=True)\n",
    "usingptmodel()\n",
    "for idx, usage in enumerate(per_cpu):\n",
    "    print(f\"CORE_{idx+1}: {usage}%\")"
   ]
  },
  {
   "cell_type": "code",
   "execution_count": 18,
   "id": "091a00e3",
   "metadata": {},
   "outputs": [
    {
     "name": "stdout",
     "output_type": "stream",
     "text": [
      "CORE_1: 12.8%\n",
      "CORE_2: 9.4%\n",
      "CORE_3: 12.8%\n",
      "CORE_4: 10.8%\n",
      "CORE_5: 10.8%\n",
      "CORE_6: 14.2%\n"
     ]
    }
   ],
   "source": [
    "per_cpu = psutil.cpu_percent(percpu=True)\n",
    "usingonnxmodel()\n",
    "for idx, usage in enumerate(per_cpu):\n",
    "    print(f\"CORE_{idx+1}: {usage}%\")"
   ]
  },
  {
   "cell_type": "code",
   "execution_count": null,
   "id": "f71d4cf2",
   "metadata": {},
   "outputs": [],
   "source": []
  }
 ],
 "metadata": {
  "kernelspec": {
   "display_name": "Python 3 (ipykernel)",
   "language": "python",
   "name": "python3"
  },
  "language_info": {
   "codemirror_mode": {
    "name": "ipython",
    "version": 3
   },
   "file_extension": ".py",
   "mimetype": "text/x-python",
   "name": "python",
   "nbconvert_exporter": "python",
   "pygments_lexer": "ipython3",
   "version": "3.9.7"
  }
 },
 "nbformat": 4,
 "nbformat_minor": 5
}
